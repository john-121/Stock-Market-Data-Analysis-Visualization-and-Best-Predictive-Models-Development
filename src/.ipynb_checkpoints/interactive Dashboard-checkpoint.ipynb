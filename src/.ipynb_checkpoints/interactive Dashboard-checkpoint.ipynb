{
 "cells": [
  {
   "cell_type": "code",
   "execution_count": 1,
   "id": "a1015653-2109-4ab8-aef3-109cea3241dc",
   "metadata": {},
   "outputs": [
    {
     "name": "stderr",
     "output_type": "stream",
     "text": [
      "C:\\Users\\johnt\\AppData\\Local\\Temp\\ipykernel_7772\\4275904988.py:3: UserWarning: \n",
      "The dash_core_components package is deprecated. Please replace\n",
      "`import dash_core_components as dcc` with `from dash import dcc`\n",
      "  import dash_core_components as dcc\n",
      "C:\\Users\\johnt\\AppData\\Local\\Temp\\ipykernel_7772\\4275904988.py:4: UserWarning: \n",
      "The dash_html_components package is deprecated. Please replace\n",
      "`import dash_html_components as html` with `from dash import html`\n",
      "  import dash_html_components as html\n"
     ]
    },
    {
     "data": {
      "text/html": [
       "\n",
       "        <iframe\n",
       "            width=\"100%\"\n",
       "            height=\"650\"\n",
       "            src=\"http://127.0.0.1:8051/\"\n",
       "            frameborder=\"0\"\n",
       "            allowfullscreen\n",
       "            \n",
       "        ></iframe>\n",
       "        "
      ],
      "text/plain": [
       "<IPython.lib.display.IFrame at 0x25532907490>"
      ]
     },
     "metadata": {},
     "output_type": "display_data"
    }
   ],
   "source": [
    "#import neccessary libraries\n",
    "import dash\n",
    "import dash_core_components as dcc\n",
    "import dash_html_components as html\n",
    "from dash.dependencies import Input, Output\n",
    "import plotly.graph_objs as go\n",
    "import pandas as pd\n",
    "\n",
    "# Loading cleaned stock data\n",
    "nike_data = pd.read_csv('C:/Users/johnt/Stock-Market-Data-Analysis-Visualization-and-Best-Predictive-Models-Development/datasets/cleaned_nike_data.csv')\n",
    "adidas_data = pd.read_csv('C:/Users/johnt/Stock-Market-Data-Analysis-Visualization-and-Best-Predictive-Models-Development/datasets/cleaned_adidas_data.csv')\n",
    "pepsico_data = pd.read_csv('C:/Users/johnt/Stock-Market-Data-Analysis-Visualization-and-Best-Predictive-Models-Development/datasets/cleaned_pepsi_data.csv')\n",
    "sony_data = pd.read_csv('C:/Users/johnt/Stock-Market-Data-Analysis-Visualization-and-Best-Predictive-Models-Development/datasets/cleaned_sony_data.csv')\n",
    "\n",
    "\n",
    "# Initialize the Dash app\n",
    "app = dash.Dash(__name__)\n",
    "\n",
    "# Define the layout of the dashboard\n",
    "app.layout = html.Div([\n",
    "    html.H1(\"Stock Market Dashboard\"),\n",
    "    dcc.Dropdown(\n",
    "        id='stock-dropdown',\n",
    "        options=[\n",
    "            {'label': 'Nike', 'value': 'nike'},\n",
    "            {'label': 'Adidas', 'value': 'adidas'},\n",
    "            {'label': 'PepsiCo', 'value': 'pepsico'},\n",
    "            {'label': 'Sony', 'value': 'sony'}\n",
    "        ],\n",
    "        value='nike'\n",
    "    ),\n",
    "    dcc.Graph(id='price-chart'),\n",
    "    dcc.Graph(id='key-metrics'),\n",
    "    dcc.Graph(id='model-comparisons'),\n",
    "    dcc.Slider(\n",
    "        id='forecast-horizon',\n",
    "        min=1,\n",
    "        max=30,\n",
    "        step=1,\n",
    "        value=10,\n",
    "        marks={i: str(i) for i in range(1, 31)}\n",
    "    )\n",
    "])\n",
    "\n",
    "# Define the callback to update the charts\n",
    "@app.callback(\n",
    "    [Output('price-chart', 'figure'),\n",
    "     Output('key-metrics', 'figure'),\n",
    "     Output('model-comparisons', 'figure')],\n",
    "    [Input('stock-dropdown', 'value'),\n",
    "     Input('forecast-horizon', 'value')]\n",
    ")\n",
    "def update_charts(stock, horizon):\n",
    "    if stock == 'nike':\n",
    "        df = nike_data\n",
    "    elif stock == 'adidas':\n",
    "        df = adidas_data\n",
    "    elif stock == 'pepsico':\n",
    "        df = pepsico_data\n",
    "    else:\n",
    "        df = sony_data\n",
    "\n",
    "    # Price Chart\n",
    "    price_chart = go.Figure()\n",
    "    price_chart.add_trace(go.Scatter(x=df['Date'], y=df['Price'], mode='lines', name='Price'))\n",
    "    price_chart.update_layout(title='Historical Prices')\n",
    "\n",
    "    # Key Metrics\n",
    "    key_metrics = go.Figure()\n",
    "    key_metrics.add_trace(go.Bar(x=['Daily Returns', 'Volatility', 'Trading Volume'], y=[0.02, 0.03, 1000000]))\n",
    "    key_metrics.update_layout(title='Key Metrics')\n",
    "\n",
    "    # Model Comparisons\n",
    "    model_comparisons = go.Figure()\n",
    "    model_comparisons.add_trace(go.Bar(x=['ARIMA', 'LSTM'], y=[50, 30]))\n",
    "    model_comparisons.update_layout(title='Model Comparisons')\n",
    "\n",
    "    return price_chart, key_metrics, model_comparisons\n",
    "\n",
    "# Run the app\n",
    "if __name__ == '__main__':\n",
    "    app.run_server(debug=True, port=8051)\n",
    "\n"
   ]
  },
  {
   "cell_type": "code",
   "execution_count": null,
   "id": "4a51e51b-7397-41fc-9ba2-ffc82b26c9c5",
   "metadata": {},
   "outputs": [],
   "source": []
  }
 ],
 "metadata": {
  "kernelspec": {
   "display_name": "Python 3 (ipykernel)",
   "language": "python",
   "name": "python3"
  },
  "language_info": {
   "codemirror_mode": {
    "name": "ipython",
    "version": 3
   },
   "file_extension": ".py",
   "mimetype": "text/x-python",
   "name": "python",
   "nbconvert_exporter": "python",
   "pygments_lexer": "ipython3",
   "version": "3.11.9"
  }
 },
 "nbformat": 4,
 "nbformat_minor": 5
}
