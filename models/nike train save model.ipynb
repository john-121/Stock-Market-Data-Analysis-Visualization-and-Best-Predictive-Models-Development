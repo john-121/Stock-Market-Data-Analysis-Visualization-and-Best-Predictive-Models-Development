{
 "cells": [
  {
   "cell_type": "code",
   "execution_count": null,
   "id": "0ca9bdfa-4f9d-4137-963d-4f672d63105a",
   "metadata": {},
   "outputs": [
    {
     "name": "stderr",
     "output_type": "stream",
     "text": [
      "C:\\Users\\johnt\\Stock-Market-Data-Analysis-Visualization-and-Best-Predictive-Models-Development\\env\\Lib\\site-packages\\keras\\src\\layers\\rnn\\rnn.py:200: UserWarning: Do not pass an `input_shape`/`input_dim` argument to a layer. When using Sequential models, prefer using an `Input(shape)` object as the first layer in the model instead.\n",
      "  super().__init__(**kwargs)\n"
     ]
    },
    {
     "name": "stdout",
     "output_type": "stream",
     "text": [
      "Epoch 1/50\n",
      "\u001b[1m277/277\u001b[0m \u001b[32m━━━━━━━━━━━━━━━━━━━━\u001b[0m\u001b[37m\u001b[0m \u001b[1m62s\u001b[0m 120ms/step - loss: 0.0070 - val_loss: 1.4028e-04\n",
      "Epoch 2/50\n",
      "\u001b[1m277/277\u001b[0m \u001b[32m━━━━━━━━━━━━━━━━━━━━\u001b[0m\u001b[37m\u001b[0m \u001b[1m29s\u001b[0m 105ms/step - loss: 1.5502e-04 - val_loss: 1.3706e-04\n",
      "Epoch 3/50\n",
      "\u001b[1m277/277\u001b[0m \u001b[32m━━━━━━━━━━━━━━━━━━━━\u001b[0m\u001b[37m\u001b[0m \u001b[1m28s\u001b[0m 102ms/step - loss: 1.8479e-04 - val_loss: 9.6215e-05\n",
      "Epoch 4/50\n",
      "\u001b[1m277/277\u001b[0m \u001b[32m━━━━━━━━━━━━━━━━━━━━\u001b[0m\u001b[37m\u001b[0m \u001b[1m42s\u001b[0m 105ms/step - loss: 1.1820e-04 - val_loss: 1.6330e-04\n",
      "Epoch 5/50\n",
      "\u001b[1m277/277\u001b[0m \u001b[32m━━━━━━━━━━━━━━━━━━━━\u001b[0m\u001b[37m\u001b[0m \u001b[1m39s\u001b[0m 96ms/step - loss: 1.3769e-04 - val_loss: 8.2232e-05\n",
      "Epoch 6/50\n",
      "\u001b[1m 17/277\u001b[0m \u001b[32m━\u001b[0m\u001b[37m━━━━━━━━━━━━━━━━━━━\u001b[0m \u001b[1m21s\u001b[0m 82ms/step - loss: 5.6137e-05"
     ]
    }
   ],
   "source": [
    "#import necessary libraries\n",
    "import numpy as np\n",
    "import pandas as pd\n",
    "from tensorflow.keras.models import Sequential\n",
    "from tensorflow.keras.layers import LSTM, Dense\n",
    "from sklearn.preprocessing import MinMaxScaler\n",
    "from sklearn.model_selection import train_test_split\n",
    "\n",
    "# Load and preprocess Nike data\n",
    "nike_data = pd.read_csv('C:/Users/johnt/Stock-Market-Data-Analysis-Visualization-and-Best-Predictive-Models-Development/datasets/cleaned_nike_data.csv')\n",
    "scaler_nike = MinMaxScaler(feature_range=(0, 1))\n",
    "scaled_nike_data = scaler_nike.fit_transform(nike_data[['Price']].values.reshape(-1, 1))\n",
    "X_nike, y_nike = [], []\n",
    "for i in range(60, len(scaled_nike_data)):\n",
    "    X_nike.append(scaled_nike_data[i-60:i, 0])\n",
    "    y_nike.append(scaled_nike_data[i, 0])\n",
    "X_nike, y_nike = np.array(X_nike), np.array(y_nike)\n",
    "X_nike = np.reshape(X_nike, (X_nike.shape[0], X_nike.shape[1], 1))\n",
    "\n",
    "# Split data into training and testing sets\n",
    "X_train_nike, X_test_nike, y_train_nike, y_test_nike = train_test_split(X_nike, y_nike, test_size=0.2, random_state=42)\n",
    "\n",
    "# Define and train the LSTM model\n",
    "nike_model = Sequential()\n",
    "nike_model.add(LSTM(50, return_sequences=True, input_shape=(X_train_nike.shape[1], X_train_nike.shape[2])))\n",
    "nike_model.add(LSTM(50))\n",
    "nike_model.add(Dense(1))\n",
    "nike_model.compile(optimizer='adam', loss='mean_squared_error')\n",
    "nike_model.fit(X_train_nike, y_train_nike, epochs=50, batch_size=32, validation_data=(X_test_nike, y_test_nike))\n",
    "\n",
    "# Save the model\n",
    "nike_model.save('models/nike_lstm_model.h5')\n"
   ]
  },
  {
   "cell_type": "code",
   "execution_count": null,
   "id": "e62da1ea-dc74-420d-a155-895904564e71",
   "metadata": {},
   "outputs": [],
   "source": []
  },
  {
   "cell_type": "code",
   "execution_count": null,
   "id": "cc72aa85-37cc-49ac-9c7d-5d13d6439878",
   "metadata": {},
   "outputs": [],
   "source": []
  }
 ],
 "metadata": {
  "kernelspec": {
   "display_name": "Python 3 (ipykernel)",
   "language": "python",
   "name": "python3"
  },
  "language_info": {
   "codemirror_mode": {
    "name": "ipython",
    "version": 3
   },
   "file_extension": ".py",
   "mimetype": "text/x-python",
   "name": "python",
   "nbconvert_exporter": "python",
   "pygments_lexer": "ipython3",
   "version": "3.11.9"
  }
 },
 "nbformat": 4,
 "nbformat_minor": 5
}
