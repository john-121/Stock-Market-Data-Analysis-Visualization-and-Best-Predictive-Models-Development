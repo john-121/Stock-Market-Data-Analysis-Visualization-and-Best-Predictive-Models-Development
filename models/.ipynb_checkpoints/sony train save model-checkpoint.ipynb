{
 "cells": [
  {
   "cell_type": "code",
   "execution_count": null,
   "id": "028a58ed-1c76-4600-9f39-de09e79fd807",
   "metadata": {},
   "outputs": [],
   "source": [
    "#import necessary libraries\n",
    "import numpy as np\n",
    "import pandas as pd\n",
    "from tensorflow.keras.models import Sequential\n",
    "from tensorflow.keras.layers import LSTM, Dense\n",
    "from sklearn.preprocessing import MinMaxScaler\n",
    "from sklearn.model_selection import train_test_split\n",
    "\n",
    "# Load and preprocess Sony data\n",
    "sony_data = pd.read_csv('C:/Users/johnt/Stock-Market-Data-Analysis-Visualization-and-Best-Predictive-Models-Development/datasets/cleaned_sony_data.csv')\n",
    "scaler_sony = MinMaxScaler(feature_range=(0, 1))\n",
    "scaled_sony_data = scaler_sony.fit_transform(sony_data[['Price']].values.reshape(-1, 1))\n",
    "X_sony, y_sony = [], []\n",
    "for i in range(60, len(scaled_sony_data)):\n",
    "    X_sony.append(scaled_sony_data[i-60:i, 0])\n",
    "    y_sony.append(scaled_sony_data[i, 0])\n",
    "X_sony, y_sony = np.array(X_sony), np.array(y_sony)\n",
    "X_sony = np.reshape(X_sony, (X_sony.shape[0], X_sony.shape[1], 1))\n",
    "\n",
    "# Split data into training and testing sets\n",
    "X_train_sony, X_test_sony, y_train_sony, y_test_sony = train_test_split(X_sony, y_sony, test_size=0.2, random_state=42)\n",
    "\n",
    "# Define and train the LSTM model\n",
    "sony_model = Sequential()\n",
    "sony_model.add(LSTM(50, return_sequences=True, input_shape=(X_train_sony.shape[1], X_train_sony.shape[2])))\n",
    "sony_model.add(LSTM(50))\n",
    "sony_model.add(Dense(1))\n",
    "sony_model.compile(optimizer='adam', loss='mean_squared_error')\n",
    "sony_model.fit(X_train_sony, y_train_sony, epochs=50, batch_size=32, validation_data=(X_test_sony, y_test_sony))\n",
    "\n",
    "# Save the model\n",
    "sony_model.save('models/sony_lstm_model.h5')\n"
   ]
  },
  {
   "cell_type": "code",
   "execution_count": null,
   "id": "4c579254-7ee2-41b6-af15-23efb1679e78",
   "metadata": {},
   "outputs": [],
   "source": []
  }
 ],
 "metadata": {
  "kernelspec": {
   "display_name": "Python 3 (ipykernel)",
   "language": "python",
   "name": "python3"
  },
  "language_info": {
   "codemirror_mode": {
    "name": "ipython",
    "version": 3
   },
   "file_extension": ".py",
   "mimetype": "text/x-python",
   "name": "python",
   "nbconvert_exporter": "python",
   "pygments_lexer": "ipython3",
   "version": "3.11.9"
  }
 },
 "nbformat": 4,
 "nbformat_minor": 5
}
