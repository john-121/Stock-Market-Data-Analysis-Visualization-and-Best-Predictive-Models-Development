{
 "cells": [
  {
   "cell_type": "code",
   "execution_count": null,
   "id": "9bfb7b79-6b66-4687-b97f-85fc573af3c4",
   "metadata": {},
   "outputs": [
    {
     "name": "stderr",
     "output_type": "stream",
     "text": [
      "C:\\Users\\johnt\\Stock-Market-Data-Analysis-Visualization-and-Best-Predictive-Models-Development\\env\\Lib\\site-packages\\keras\\src\\layers\\rnn\\rnn.py:200: UserWarning: Do not pass an `input_shape`/`input_dim` argument to a layer. When using Sequential models, prefer using an `Input(shape)` object as the first layer in the model instead.\n",
      "  super().__init__(**kwargs)\n"
     ]
    },
    {
     "name": "stdout",
     "output_type": "stream",
     "text": [
      "Epoch 1/50\n",
      "\u001b[1m281/281\u001b[0m \u001b[32m━━━━━━━━━━━━━━━━━━━━\u001b[0m\u001b[37m\u001b[0m \u001b[1m56s\u001b[0m 89ms/step - loss: 0.0081 - val_loss: 1.2109e-04\n",
      "Epoch 2/50\n",
      "\u001b[1m281/281\u001b[0m \u001b[32m━━━━━━━━━━━━━━━━━━━━\u001b[0m\u001b[37m\u001b[0m \u001b[1m38s\u001b[0m 78ms/step - loss: 1.2315e-04 - val_loss: 9.8284e-05\n",
      "Epoch 3/50\n",
      "\u001b[1m281/281\u001b[0m \u001b[32m━━━━━━━━━━━━━━━━━━━━\u001b[0m\u001b[37m\u001b[0m \u001b[1m16s\u001b[0m 55ms/step - loss: 1.1511e-04 - val_loss: 8.4542e-05\n",
      "Epoch 4/50\n",
      "\u001b[1m 71/281\u001b[0m \u001b[32m━━━━━\u001b[0m\u001b[37m━━━━━━━━━━━━━━━\u001b[0m \u001b[1m12s\u001b[0m 58ms/step - loss: 1.1576e-04"
     ]
    }
   ],
   "source": [
    "#import necessary libraries\n",
    "import numpy as np\n",
    "import pandas as pd\n",
    "from tensorflow.keras.models import Sequential\n",
    "from tensorflow.keras.layers import LSTM, Dense\n",
    "from sklearn.preprocessing import MinMaxScaler\n",
    "from sklearn.model_selection import train_test_split\n",
    "\n",
    "# Load and preprocess PepsiCo data\n",
    "pepsico_data = pd.read_csv('C:/Users/johnt/Stock-Market-Data-Analysis-Visualization-and-Best-Predictive-Models-Development/datasets/cleaned_pepsi_data.csv')\n",
    "scaler_pepsico = MinMaxScaler(feature_range=(0, 1))\n",
    "scaled_pepsico_data = scaler_pepsico.fit_transform(pepsico_data[['Price']].values.reshape(-1, 1))\n",
    "X_pepsico, y_pepsico = [], []\n",
    "for i in range(60, len(scaled_pepsico_data)):\n",
    "    X_pepsico.append(scaled_pepsico_data[i-60:i, 0])\n",
    "    y_pepsico.append(scaled_pepsico_data[i, 0])\n",
    "X_pepsico, y_pepsico = np.array(X_pepsico), np.array(y_pepsico)\n",
    "X_pepsico = np.reshape(X_pepsico, (X_pepsico.shape[0], X_pepsico.shape[1], 1))\n",
    "\n",
    "# Split data into training and testing sets\n",
    "X_train_pepsico, X_test_pepsico, y_train_pepsico, y_test_pepsico = train_test_split(X_pepsico, y_pepsico, test_size=0.2, random_state=42)\n",
    "\n",
    "# Define and train the LSTM model\n",
    "pepsico_model = Sequential()\n",
    "pepsico_model.add(LSTM(50, return_sequences=True, input_shape=(X_train_pepsico.shape[1], X_train_pepsico.shape[2])))\n",
    "pepsico_model.add(LSTM(50))\n",
    "pepsico_model.add(Dense(1))\n",
    "pepsico_model.compile(optimizer='adam', loss='mean_squared_error')\n",
    "pepsico_model.fit(X_train_pepsico, y_train_pepsico, epochs=50, batch_size=32, validation_data=(X_test_pepsico, y_test_pepsico))\n",
    "\n",
    "# Save the model\n",
    "pepsico_model.save('models/pepsico_lstm_model.h5')\n"
   ]
  },
  {
   "cell_type": "code",
   "execution_count": null,
   "id": "69130bf5-ad99-4ee2-a774-9395e23dd720",
   "metadata": {},
   "outputs": [],
   "source": []
  }
 ],
 "metadata": {
  "kernelspec": {
   "display_name": "Python 3 (ipykernel)",
   "language": "python",
   "name": "python3"
  },
  "language_info": {
   "codemirror_mode": {
    "name": "ipython",
    "version": 3
   },
   "file_extension": ".py",
   "mimetype": "text/x-python",
   "name": "python",
   "nbconvert_exporter": "python",
   "pygments_lexer": "ipython3",
   "version": "3.11.9"
  }
 },
 "nbformat": 4,
 "nbformat_minor": 5
}
