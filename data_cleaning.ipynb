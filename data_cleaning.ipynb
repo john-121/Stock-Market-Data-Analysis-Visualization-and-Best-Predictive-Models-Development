{
 "cells": [
  {
   "cell_type": "code",
   "execution_count": 36,
   "id": "a76c4e8c-2301-4a8b-bd33-76f397f67137",
   "metadata": {},
   "outputs": [],
   "source": [
    "#importing required libraries\n",
    "import pandas as pd\n",
    "import numpy as np"
   ]
  },
  {
   "cell_type": "code",
   "execution_count": 39,
   "id": "762b3c65-8fa9-4f20-ba07-27d9f812b6bc",
   "metadata": {},
   "outputs": [],
   "source": [
    "#Loading each data files\n",
    "nike_data = pd.read_csv('datasets/nike_data.csv')\n",
    "adidas_data = pd.read_csv('datasets/adidas_data.csv')\n",
    "pepsi_data = pd.read_csv('datasets/pepsi_data.csv')\n",
    "sony_data = pd.read_csv('datasets/sony_data.csv')\n"
   ]
  },
  {
   "cell_type": "code",
   "execution_count": 40,
   "id": "4ef5a2c9-5f69-4400-aff0-8f076189a4f2",
   "metadata": {},
   "outputs": [],
   "source": [
    "# Remove duplicates from each data files\n",
    "nike_data.drop_duplicates(inplace=True)\n",
    "adidas_data.drop_duplicates(inplace=True)\n",
    "pepsi_data.drop_duplicates(inplace=True)\n",
    "sony_data.drop_duplicates(inplace=True)\n"
   ]
  },
  {
   "cell_type": "code",
   "execution_count": 42,
   "id": "fedd7d4e-a58f-4384-bac0-316e5530d09f",
   "metadata": {},
   "outputs": [
    {
     "name": "stdout",
     "output_type": "stream",
     "text": [
      "Date               0\n",
      "Price              0\n",
      "Open               0\n",
      "High               0\n",
      "Low                0\n",
      "Vol.               0\n",
      "Change %           0\n",
      "Unnamed: 7     11105\n",
      "Unnamed: 8     11105\n",
      "Unnamed: 9     11105\n",
      "Unnamed: 10    11105\n",
      "Unnamed: 11    11105\n",
      "Unnamed: 12    11105\n",
      "dtype: int64\n",
      "Date              0\n",
      "Price             0\n",
      "Open              0\n",
      "High              0\n",
      "Low               0\n",
      "Vol.              0\n",
      "Change %          0\n",
      "Unnamed: 7     7372\n",
      "Unnamed: 8     7372\n",
      "Unnamed: 9     7372\n",
      "Unnamed: 10    7372\n",
      "Unnamed: 11    7372\n",
      "Unnamed: 12    7372\n",
      "dtype: int64\n"
     ]
    }
   ],
   "source": [
    "# Check for missing values in nike dataset \n",
    "print(nike_data.isnull().sum())\n",
    "print(adidas_data.isnull().sum())"
   ]
  },
  {
   "cell_type": "code",
   "execution_count": 41,
   "id": "00edadd0-bb1b-40c5-8c5e-3e774297de35",
   "metadata": {},
   "outputs": [
    {
     "name": "stdout",
     "output_type": "stream",
     "text": [
      "Date              0\n",
      "Price             0\n",
      "Open              0\n",
      "High              0\n",
      "Low               0\n",
      "Vol.              0\n",
      "Change %          0\n",
      "Unnamed: 7     7372\n",
      "Unnamed: 8     7372\n",
      "Unnamed: 9     7372\n",
      "Unnamed: 10    7372\n",
      "Unnamed: 11    7372\n",
      "Unnamed: 12    7372\n",
      "dtype: int64\n"
     ]
    }
   ],
   "source": [
    "# Check for missing values in adidas dataset \n",
    "print(adidas_data.isnull().sum())"
   ]
  },
  {
   "cell_type": "code",
   "execution_count": 43,
   "id": "21fc507d-a96c-40e4-bf58-b439c7e2db35",
   "metadata": {},
   "outputs": [
    {
     "name": "stdout",
     "output_type": "stream",
     "text": [
      "Date               0\n",
      "Price              0\n",
      "Open               0\n",
      "High               0\n",
      "Low                0\n",
      "Vol.               0\n",
      "Change %           0\n",
      "Unnamed: 7     11284\n",
      "Unnamed: 8     11284\n",
      "Unnamed: 9     11284\n",
      "Unnamed: 10    11284\n",
      "Unnamed: 11    11284\n",
      "Unnamed: 12    11284\n",
      "dtype: int64\n"
     ]
    }
   ],
   "source": [
    "# Check for missing values in pepsi dataset \n",
    "print(pepsi_data.isnull().sum())"
   ]
  },
  {
   "cell_type": "code",
   "execution_count": 44,
   "id": "a9d7c68e-e627-4ae3-bbc9-29430d2845c3",
   "metadata": {},
   "outputs": [
    {
     "name": "stdout",
     "output_type": "stream",
     "text": [
      "Date               0\n",
      "Price              0\n",
      "Open               0\n",
      "High               0\n",
      "Low                0\n",
      "Vol.               0\n",
      "Change %           0\n",
      "Unnamed: 7     11285\n",
      "Unnamed: 8     11285\n",
      "Unnamed: 9     11285\n",
      "Unnamed: 10    11285\n",
      "Unnamed: 11    11285\n",
      "Unnamed: 12    11285\n",
      "dtype: int64\n"
     ]
    }
   ],
   "source": [
    "# Check for missing values in sony dataset \n",
    "print(sony_data.isnull().sum())"
   ]
  },
  {
   "cell_type": "code",
   "execution_count": 48,
   "id": "3b510480-7054-49b7-bf96-cc80df286309",
   "metadata": {},
   "outputs": [],
   "source": [
    "# Fill missing values with the mean for numeric columns \n",
    "#for nike\n",
    "numeric_columns = nike_data.select_dtypes(include=[np.number]).columns \n",
    "nike_data[numeric_columns] = nike_data[numeric_columns].apply(lambda col: col.fillna(col.mean()), axis=0)\n",
    "\n",
    "#for adidas\n",
    "numeric_columns = adidas_data.select_dtypes(include=[np.number]).columns \n",
    "adidas_data[numeric_columns] = nike_data[numeric_columns].apply(lambda col: col.fillna(col.mean()), axis=0)\n",
    "\n",
    "#for pepsi\n",
    "numeric_columns = pepsi_data.select_dtypes(include=[np.number]).columns \n",
    "pepsi_data[numeric_columns] = nike_data[numeric_columns].apply(lambda col: col.fillna(col.mean()), axis=0)\n",
    "\n",
    "#for sony\n",
    "numeric_columns = sony_data.select_dtypes(include=[np.number]).columns\n",
    "sony_data[numeric_columns] = nike_data[numeric_columns].apply(lambda col: col.fillna(col.mean()), axis=0)"
   ]
  },
  {
   "cell_type": "code",
   "execution_count": 49,
   "id": "7b4f3600-6055-48cc-a7a5-f01ed8b3e132",
   "metadata": {},
   "outputs": [],
   "source": [
    "# For non-numeric columns, you can choose to fill missing values with a placeholder or drop them \n",
    "#for nike\n",
    "non_numeric_columns = nike_data.select_dtypes(exclude=[np.number]).columns \n",
    "nike_data[non_numeric_columns] = nike_data[non_numeric_columns].fillna(\"Missing\")\n",
    "\n",
    "#for adidas\n",
    "non_numeric_columns = adidas_data.select_dtypes(exclude=[np.number]).columns \n",
    "adidas_data[non_numeric_columns] = adidas_data[non_numeric_columns].fillna(\"Missing\")\n",
    "\n",
    "#for pepsi\n",
    "non_numeric_columns = pepsi_data.select_dtypes(exclude=[np.number]).columns \n",
    "pepsi_data[non_numeric_columns] = pepsi_data[non_numeric_columns].fillna(\"Missing\")\n",
    "\n",
    "#for sony\n",
    "non_numeric_columns = sony_data.select_dtypes(exclude=[np.number]).columns \n",
    "sony_data[non_numeric_columns] = sony_data[non_numeric_columns].fillna(\"Missing\")\n"
   ]
  },
  {
   "cell_type": "code",
   "execution_count": 50,
   "id": "c6dfc3de-69f5-4572-bf8d-a3ebf25baba5",
   "metadata": {},
   "outputs": [
    {
     "name": "stdout",
     "output_type": "stream",
     "text": [
      "Date           0\n",
      "Price          0\n",
      "Open           0\n",
      "High           0\n",
      "Low            0\n",
      "Vol.           0\n",
      "Change %       0\n",
      "Unnamed: 7     0\n",
      "Unnamed: 8     0\n",
      "Unnamed: 9     0\n",
      "Unnamed: 10    0\n",
      "Unnamed: 11    0\n",
      "Unnamed: 12    0\n",
      "dtype: int64\n",
      "Date           0\n",
      "Price          0\n",
      "Open           0\n",
      "High           0\n",
      "Low            0\n",
      "Vol.           0\n",
      "Change %       0\n",
      "Unnamed: 7     0\n",
      "Unnamed: 8     0\n",
      "Unnamed: 9     0\n",
      "Unnamed: 10    0\n",
      "Unnamed: 11    0\n",
      "Unnamed: 12    0\n",
      "dtype: int64\n",
      "Date             0\n",
      "Price          179\n",
      "Open           179\n",
      "High           179\n",
      "Low            179\n",
      "Vol.             0\n",
      "Change %         0\n",
      "Unnamed: 7     179\n",
      "Unnamed: 8     179\n",
      "Unnamed: 9     179\n",
      "Unnamed: 10    179\n",
      "Unnamed: 11      0\n",
      "Unnamed: 12      0\n",
      "dtype: int64\n",
      "Date             0\n",
      "Price          180\n",
      "Open           180\n",
      "High           180\n",
      "Low            180\n",
      "Vol.             0\n",
      "Change %         0\n",
      "Unnamed: 7     180\n",
      "Unnamed: 8     180\n",
      "Unnamed: 9     180\n",
      "Unnamed: 10    180\n",
      "Unnamed: 11      0\n",
      "Unnamed: 12      0\n",
      "dtype: int64\n"
     ]
    }
   ],
   "source": [
    "# Check for missing values in each dataset \n",
    "print(nike_data.isnull().sum())\n",
    "print(adidas_data.isnull().sum())\n",
    "print(pepsi_data.isnull().sum())\n",
    "print(sony_data.isnull().sum())"
   ]
  },
  {
   "cell_type": "code",
   "execution_count": 55,
   "id": "44b78c22-f0ec-40ff-b94b-2ad053728d6e",
   "metadata": {},
   "outputs": [],
   "source": [
    "# Convert the 'Date' column to datetime format with a dayfirst=True\n",
    "nike_data['Date'] = pd.to_datetime(nike_data['Date'], dayfirst=True, errors='coerce')\n",
    "adidas_data['Date'] = pd.to_datetime(adidas_data['Date'], dayfirst=True, errors='coerce')\n",
    "pepsi_data['Date'] = pd.to_datetime(pepsi_data['Date'], dayfirst=True, errors='coerce')\n",
    "sony_data['Date'] = pd.to_datetime(sony_data['Date'], dayfirst=True, errors='coerce')\n"
   ]
  },
  {
   "cell_type": "code",
   "execution_count": 58,
   "id": "31df3955-4663-48ea-b639-b0f88a31e878",
   "metadata": {},
   "outputs": [
    {
     "name": "stdout",
     "output_type": "stream",
     "text": [
      "      Date  Price   Open   High    Low    Vol. Change %  Unnamed: 7  \\\n",
      "9      NaT   0.15   0.15   0.15   0.15   6.64M    0.00%      50.825   \n",
      "10     NaT   0.15   0.15   0.15   0.15   6.63M    0.00%      50.825   \n",
      "11     NaT   0.14   0.14   0.15   0.14   4.67M   -6.67%      50.825   \n",
      "12     NaT   0.15   0.15   0.15   0.15  11.25M    7.14%      50.825   \n",
      "13     NaT   0.15   0.15   0.15   0.15  10.04M    0.00%      50.825   \n",
      "...    ...    ...    ...    ...    ...     ...      ...         ...   \n",
      "11102  NaT  76.90  77.98  79.00  76.84  14.38M   -1.41%      50.825   \n",
      "11103  NaT  77.10  76.94  77.94  76.43  27.07M    0.26%      50.825   \n",
      "11104  NaT  76.94  75.96  78.00  74.86  49.88M   -0.21%      50.825   \n",
      "11105  NaT  76.76  76.32  78.41  75.74  14.20M   -0.23%      50.825   \n",
      "11106  NaT  76.79  76.75  77.11  76.36   4.92M    0.04%      50.825   \n",
      "\n",
      "       Unnamed: 8  Unnamed: 9  Unnamed: 10 Unnamed: 11 Unnamed: 12  \n",
      "9          50.655      51.035        50.23     Missing     Missing  \n",
      "10         50.655      51.035        50.23     Missing     Missing  \n",
      "11         50.655      51.035        50.23     Missing     Missing  \n",
      "12         50.655      51.035        50.23     Missing     Missing  \n",
      "13         50.655      51.035        50.23     Missing     Missing  \n",
      "...           ...         ...          ...         ...         ...  \n",
      "11102      50.655      51.035        50.23     Missing     Missing  \n",
      "11103      50.655      51.035        50.23     Missing     Missing  \n",
      "11104      50.655      51.035        50.23     Missing     Missing  \n",
      "11105      50.655      51.035        50.23     Missing     Missing  \n",
      "11106      50.655      51.035        50.23     Missing     Missing  \n",
      "\n",
      "[6722 rows x 13 columns]\n",
      "Empty DataFrame\n",
      "Columns: [Date, Price, Open, High, Low, Vol., Change %, Unnamed: 7, Unnamed: 8, Unnamed: 9, Unnamed: 10, Unnamed: 11, Unnamed: 12]\n",
      "Index: []\n",
      "Empty DataFrame\n",
      "Columns: [Date, Price, Open, High, Low, Vol., Change %, Unnamed: 7, Unnamed: 8, Unnamed: 9, Unnamed: 10, Unnamed: 11, Unnamed: 12]\n",
      "Index: []\n",
      "Empty DataFrame\n",
      "Columns: [Date, Price, Open, High, Low, Vol., Change %, Unnamed: 7, Unnamed: 8, Unnamed: 9, Unnamed: 10, Unnamed: 11, Unnamed: 12]\n",
      "Index: []\n"
     ]
    }
   ],
   "source": [
    "#Check for rows with invalid dates\n",
    "print(nike_data[nike_data['Date'].isna()])\n",
    "print(adidas_data[adidas_data['Date'].isna()])\n",
    "print(pepsi_data[pepsi_data['Date'].isna()])\n",
    "print(sony_data[sony_data['Date'].isna()])\n"
   ]
  },
  {
   "cell_type": "code",
   "execution_count": 60,
   "id": "91d201d5-9429-4134-9005-c113bd748bed",
   "metadata": {},
   "outputs": [],
   "source": [
    "#remove rows with invalid dates\n",
    "nike_data = nike_data.dropna(subset=['Date'])\n",
    "adidas_data = adidas_data.dropna(subset=['Date'])\n",
    "pepsi_data = pepsi_data.dropna(subset=['Date'])\n",
    "sony_data = sony_data.dropna(subset=['Date'])"
   ]
  },
  {
   "cell_type": "code",
   "execution_count": 62,
   "id": "6713489b-8e31-46ff-b176-d6f3699cd692",
   "metadata": {},
   "outputs": [],
   "source": [
    "# Save cleaned data \n",
    "nike_data.to_csv('datasets/cleaned_nike_data.csv', index=False)\n",
    "adidas_data.to_csv('datasets/cleaned_adidas_data.csv', index=False)\n",
    "pepsi_data.to_csv('datasets/cleaned_pepsi_data.csv', index=False)\n",
    "sony_data.to_csv('datasets/cleaned_sony_data.csv', index=False)"
   ]
  },
  {
   "cell_type": "code",
   "execution_count": 64,
   "id": "4d8bc0f6-2f18-4aba-8549-9c00ed7e9b05",
   "metadata": {},
   "outputs": [
    {
     "name": "stdout",
     "output_type": "stream",
     "text": [
      "Data cleaning completed and saved.\n"
     ]
    }
   ],
   "source": [
    "#confirm data cleaning\n",
    "print(\"Data cleaning completed and saved.\")"
   ]
  },
  {
   "cell_type": "code",
   "execution_count": null,
   "id": "d24b2bf6-cb70-484e-9cd6-262aa87806f5",
   "metadata": {},
   "outputs": [],
   "source": []
  }
 ],
 "metadata": {
  "kernelspec": {
   "display_name": "Python 3 (ipykernel)",
   "language": "python",
   "name": "python3"
  },
  "language_info": {
   "codemirror_mode": {
    "name": "ipython",
    "version": 3
   },
   "file_extension": ".py",
   "mimetype": "text/x-python",
   "name": "python",
   "nbconvert_exporter": "python",
   "pygments_lexer": "ipython3",
   "version": "3.11.9"
  }
 },
 "nbformat": 4,
 "nbformat_minor": 5
}
